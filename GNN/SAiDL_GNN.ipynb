{
  "nbformat": 4,
  "nbformat_minor": 0,
  "metadata": {
    "colab": {
      "provenance": [],
      "authorship_tag": "ABX9TyMC1lyKjtgVdSJJhS9CyVnR"
    },
    "kernelspec": {
      "name": "python3",
      "display_name": "Python 3"
    },
    "language_info": {
      "name": "python"
    }
  },
  "cells": [
    {
      "cell_type": "markdown",
      "source": [
        "SAIDL 2024 Spring Assignment\n",
        "\n",
        "Author: Shanay Mehta"
      ],
      "metadata": {
        "id": "s3yRZKP-nVkQ"
      }
    },
    {
      "cell_type": "code",
      "source": [
        "!pip install torch_geometric"
      ],
      "metadata": {
        "colab": {
          "base_uri": "https://localhost:8080/"
        },
        "id": "qQNVlRMMobrr",
        "outputId": "f13323b6-e846-4f97-b73b-eb62fdca70cc"
      },
      "execution_count": 1,
      "outputs": [
        {
          "output_type": "stream",
          "name": "stdout",
          "text": [
            "Requirement already satisfied: torch_geometric in /usr/local/lib/python3.10/dist-packages (2.5.2)\n",
            "Requirement already satisfied: tqdm in /usr/local/lib/python3.10/dist-packages (from torch_geometric) (4.66.2)\n",
            "Requirement already satisfied: numpy in /usr/local/lib/python3.10/dist-packages (from torch_geometric) (1.25.2)\n",
            "Requirement already satisfied: scipy in /usr/local/lib/python3.10/dist-packages (from torch_geometric) (1.11.4)\n",
            "Requirement already satisfied: fsspec in /usr/local/lib/python3.10/dist-packages (from torch_geometric) (2023.6.0)\n",
            "Requirement already satisfied: jinja2 in /usr/local/lib/python3.10/dist-packages (from torch_geometric) (3.1.3)\n",
            "Requirement already satisfied: aiohttp in /usr/local/lib/python3.10/dist-packages (from torch_geometric) (3.9.3)\n",
            "Requirement already satisfied: requests in /usr/local/lib/python3.10/dist-packages (from torch_geometric) (2.31.0)\n",
            "Requirement already satisfied: pyparsing in /usr/local/lib/python3.10/dist-packages (from torch_geometric) (3.1.2)\n",
            "Requirement already satisfied: scikit-learn in /usr/local/lib/python3.10/dist-packages (from torch_geometric) (1.2.2)\n",
            "Requirement already satisfied: psutil>=5.8.0 in /usr/local/lib/python3.10/dist-packages (from torch_geometric) (5.9.5)\n",
            "Requirement already satisfied: aiosignal>=1.1.2 in /usr/local/lib/python3.10/dist-packages (from aiohttp->torch_geometric) (1.3.1)\n",
            "Requirement already satisfied: attrs>=17.3.0 in /usr/local/lib/python3.10/dist-packages (from aiohttp->torch_geometric) (23.2.0)\n",
            "Requirement already satisfied: frozenlist>=1.1.1 in /usr/local/lib/python3.10/dist-packages (from aiohttp->torch_geometric) (1.4.1)\n",
            "Requirement already satisfied: multidict<7.0,>=4.5 in /usr/local/lib/python3.10/dist-packages (from aiohttp->torch_geometric) (6.0.5)\n",
            "Requirement already satisfied: yarl<2.0,>=1.0 in /usr/local/lib/python3.10/dist-packages (from aiohttp->torch_geometric) (1.9.4)\n",
            "Requirement already satisfied: async-timeout<5.0,>=4.0 in /usr/local/lib/python3.10/dist-packages (from aiohttp->torch_geometric) (4.0.3)\n",
            "Requirement already satisfied: MarkupSafe>=2.0 in /usr/local/lib/python3.10/dist-packages (from jinja2->torch_geometric) (2.1.5)\n",
            "Requirement already satisfied: charset-normalizer<4,>=2 in /usr/local/lib/python3.10/dist-packages (from requests->torch_geometric) (3.3.2)\n",
            "Requirement already satisfied: idna<4,>=2.5 in /usr/local/lib/python3.10/dist-packages (from requests->torch_geometric) (3.6)\n",
            "Requirement already satisfied: urllib3<3,>=1.21.1 in /usr/local/lib/python3.10/dist-packages (from requests->torch_geometric) (2.0.7)\n",
            "Requirement already satisfied: certifi>=2017.4.17 in /usr/local/lib/python3.10/dist-packages (from requests->torch_geometric) (2024.2.2)\n",
            "Requirement already satisfied: joblib>=1.1.1 in /usr/local/lib/python3.10/dist-packages (from scikit-learn->torch_geometric) (1.3.2)\n",
            "Requirement already satisfied: threadpoolctl>=2.0.0 in /usr/local/lib/python3.10/dist-packages (from scikit-learn->torch_geometric) (3.4.0)\n"
          ]
        }
      ]
    },
    {
      "cell_type": "code",
      "execution_count": 2,
      "metadata": {
        "id": "UWEl-sJNm5Zr"
      },
      "outputs": [],
      "source": [
        "import torch_geometric as tg\n",
        "import torch\n",
        "from torch_geometric.datasets import Planetoid\n",
        "import torch_geometric.transforms as T\n",
        "import torch.nn as nn\n",
        "import torch.nn.functional as F"
      ]
    },
    {
      "cell_type": "code",
      "source": [
        "torch.random.manual_seed(1)"
      ],
      "metadata": {
        "colab": {
          "base_uri": "https://localhost:8080/"
        },
        "id": "_ayE0z4jFAaB",
        "outputId": "4bb1b678-a805-4b8f-af57-8fbe57847742"
      },
      "execution_count": 3,
      "outputs": [
        {
          "output_type": "execute_result",
          "data": {
            "text/plain": [
              "<torch._C.Generator at 0x7ec1542fe6b0>"
            ]
          },
          "metadata": {},
          "execution_count": 3
        }
      ]
    },
    {
      "cell_type": "code",
      "source": [
        "name_data = 'Cora'\n",
        "dataset = Planetoid(root= '/tmp/Cora', name = name_data)\n",
        "dataset.transform = T.NormalizeFeatures()\n",
        "\n",
        "print(f\"Number of Classes in {name_data}:\", dataset.num_classes)\n",
        "print(f\"Number of Node Features in {name_data}:\", dataset.num_node_features)"
      ],
      "metadata": {
        "colab": {
          "base_uri": "https://localhost:8080/"
        },
        "id": "mGjz8gkXy3Qi",
        "outputId": "04bb893c-941f-4185-da2b-c488610b0fe8"
      },
      "execution_count": 4,
      "outputs": [
        {
          "output_type": "stream",
          "name": "stdout",
          "text": [
            "Number of Classes in Cora: 7\n",
            "Number of Node Features in Cora: 1433\n"
          ]
        }
      ]
    },
    {
      "cell_type": "code",
      "source": [
        "data = dataset[0]"
      ],
      "metadata": {
        "id": "4eh8ZVTlzjBa"
      },
      "execution_count": 5,
      "outputs": []
    },
    {
      "cell_type": "code",
      "source": [
        "print(data.train_mask.sum().item())\n",
        "print(data.val_mask.sum().item())\n",
        "print(data.test_mask.sum().item())"
      ],
      "metadata": {
        "colab": {
          "base_uri": "https://localhost:8080/"
        },
        "id": "UYTLAIHW7HdR",
        "outputId": "e680dbb5-190a-44f9-9376-b81b81f848fd"
      },
      "execution_count": 6,
      "outputs": [
        {
          "output_type": "stream",
          "name": "stdout",
          "text": [
            "140\n",
            "500\n",
            "1000\n"
          ]
        }
      ]
    },
    {
      "cell_type": "code",
      "source": [
        "print(data.num_features)"
      ],
      "metadata": {
        "colab": {
          "base_uri": "https://localhost:8080/"
        },
        "id": "mm27PbeJm6Ct",
        "outputId": "a2a2ee9e-6845-4104-8f0e-82ffeef4f212"
      },
      "execution_count": 7,
      "outputs": [
        {
          "output_type": "stream",
          "name": "stdout",
          "text": [
            "1433\n"
          ]
        }
      ]
    },
    {
      "cell_type": "code",
      "source": [
        "print(data.x.shape)"
      ],
      "metadata": {
        "colab": {
          "base_uri": "https://localhost:8080/"
        },
        "id": "a1zdhxbeqGnP",
        "outputId": "8394d2a9-be1c-4132-e53f-a5d303177451"
      },
      "execution_count": 8,
      "outputs": [
        {
          "output_type": "stream",
          "name": "stdout",
          "text": [
            "torch.Size([2708, 1433])\n"
          ]
        }
      ]
    },
    {
      "cell_type": "code",
      "source": [
        "class GATLayer(nn.Module):\n",
        "    def __init__(self, in_features, out_features, num_heads, dropout, alpha, concat=True):\n",
        "        super(GATLayer, self).__init__()\n",
        "        self.dropout = dropout\n",
        "        self.alpha = alpha\n",
        "        self.concat = concat\n",
        "        self.in_features = in_features\n",
        "        self.out_features = out_features\n",
        "        self.num_heads = num_heads\n",
        "\n",
        "        self.W = nn.Parameter(torch.zeros(size=(in_features, out_features * num_heads)))\n",
        "        nn.init.xavier_uniform_(self.W.data, gain=1.414) # Original GAT paper uses Xavier Glorot initialisation for Cora dataset\n",
        "\n",
        "        self.a = nn.Parameter(torch.zeros(size=(2*num_heads*out_features, 1)))\n",
        "        nn.init.xavier_uniform_(self.a.data, gain=1.414)\n",
        "\n",
        "        self.leakyrelu = nn.LeakyReLU(self.alpha)\n",
        "\n",
        "    def forward(self, input, adj_mat):\n",
        "\n",
        "        h = torch.mm(input, self.W).view(-1, self.num_heads*self.out_features) # matrix multiplication # N x (head*out_feature)\n",
        "        N = h.size()[0]\n",
        "\n",
        "        a_input = torch.cat([h.repeat(1, N).view(N * N, -1), h.repeat(N, 1)], dim=1).view(N, -1, 2 * self.num_heads * self.out_features)\n",
        "        e       = self.leakyrelu(torch.matmul(a_input, self.a).squeeze(2))\n",
        "\n",
        "        # Masked Attention\n",
        "        zero_vec  = -9e15*torch.ones_like(e)\n",
        "        attention = torch.where(adj_mat > 0, e, zero_vec)\n",
        "\n",
        "        attention = F.softmax(attention, dim=1)\n",
        "        attention = F.dropout(attention, self.dropout, training=self.training)\n",
        "        h_prime = torch.matmul(attention, h).view(-1, self.num_heads * self.out_features)  # Concatenate attention heads\n",
        "\n",
        "        if self.concat == False:\n",
        "            # Take the mean across heads\n",
        "            h_prime = h_prime.view(-1, self.num_heads, self.out_features)\n",
        "            h_prime = h_prime.mean(dim=1)\n",
        "\n",
        "        return h_prime"
      ],
      "metadata": {
        "id": "7fYYcM077PWA"
      },
      "execution_count": 9,
      "outputs": []
    },
    {
      "cell_type": "markdown",
      "source": [
        "The architecture of the model is completely inspired from the original GAT paper."
      ],
      "metadata": {
        "id": "RFC8AkQxAyTv"
      }
    },
    {
      "cell_type": "code",
      "source": [
        "class GAT(nn.Module):\n",
        "    def __init__(self, num_features):\n",
        "        super(GAT, self).__init__()\n",
        "        self.num_head1 = 8\n",
        "        self.layer1 = GATLayer(num_features, out_features = 8, num_heads = 8, dropout = 0.6, alpha = 0.2)\n",
        "        self.layer2 = GATLayer(in_features = 8*8, out_features = 7, num_heads = 1, dropout = 0.6, alpha = 0.2, concat = False)\n",
        "\n",
        "    def forward(self, input, adj_mat):\n",
        "        input = F.dropout(input, p=0.6, training=self.training)\n",
        "        a1 = self.layer1.forward(input, adj_mat)\n",
        "        a1 = F.elu(a1)\n",
        "        a1 = F.dropout(a1, p=0.6, training=self.training)\n",
        "        a2 = self.layer2.forward(a1, adj_mat)\n",
        "        return F.softmax(a2, dim=1)"
      ],
      "metadata": {
        "id": "o2g6sfwGUmYy"
      },
      "execution_count": 10,
      "outputs": []
    },
    {
      "cell_type": "code",
      "source": [
        "model = GAT(data.num_features).to('cpu')\n",
        "optimizer = torch.optim.Adam(model.parameters(), lr = 0.005, weight_decay = 0.0005)\n",
        "criterion = nn.CrossEntropyLoss()"
      ],
      "metadata": {
        "id": "TTgTzM2dZDHQ"
      },
      "execution_count": 11,
      "outputs": []
    },
    {
      "cell_type": "code",
      "source": [
        "adj = torch.zeros((data.num_nodes, data.num_nodes))\n",
        "for i, j in data.edge_index.t().tolist():\n",
        "    adj[i, j] = 1"
      ],
      "metadata": {
        "id": "mr60kKRj0osm"
      },
      "execution_count": 12,
      "outputs": []
    },
    {
      "cell_type": "code",
      "source": [
        "def train(model, data, optimizer, criterion, num_epochs=20):\n",
        "\n",
        "    for epoch in range(num_epochs):\n",
        "        model.train()\n",
        "        optimizer.zero_grad()\n",
        "        output = model.forward(data.x,adj)\n",
        "        loss = criterion(output[data.train_mask], data.y[data.train_mask])\n",
        "        loss.backward()\n",
        "        optimizer.step()\n",
        "\n",
        "        model.eval()\n",
        "        with torch.no_grad():\n",
        "            val_output = model.forward(data.x,adj)\n",
        "            val_loss = criterion(val_output[data.val_mask], data.y[data.val_mask])\n",
        "            pred = val_output.max(dim=1)\n",
        "            correct = float(pred.indices[data.val_mask].eq(data.y[data.val_mask]).sum().item())\n",
        "            acc = correct / data.val_mask.sum().item()\n",
        "\n",
        "        print(f\"Epoch {epoch}: Loss: {loss.item()}, Val Loss: {val_loss.item()}, Val Acc: {acc}\")\n"
      ],
      "metadata": {
        "id": "P2-vSC0ZaFLD"
      },
      "execution_count": 13,
      "outputs": []
    },
    {
      "cell_type": "code",
      "source": [
        "train(model, data, optimizer, criterion)"
      ],
      "metadata": {
        "colab": {
          "base_uri": "https://localhost:8080/"
        },
        "id": "NExcJpT5mGt2",
        "outputId": "60362bfa-5b44-4d59-c6cf-9339b9a0ce65"
      },
      "execution_count": 14,
      "outputs": [
        {
          "output_type": "stream",
          "name": "stdout",
          "text": [
            "Epoch 0: Loss: 1.9458681344985962, Val Loss: 1.9452917575836182, Val Acc: 0.296\n",
            "Epoch 1: Loss: 1.945309042930603, Val Loss: 1.9447896480560303, Val Acc: 0.408\n",
            "Epoch 2: Loss: 1.9439773559570312, Val Loss: 1.9442617893218994, Val Acc: 0.486\n",
            "Epoch 3: Loss: 1.9430537223815918, Val Loss: 1.9437885284423828, Val Acc: 0.53\n",
            "Epoch 4: Loss: 1.9416532516479492, Val Loss: 1.9433534145355225, Val Acc: 0.56\n",
            "Epoch 5: Loss: 1.9408105611801147, Val Loss: 1.9429141283035278, Val Acc: 0.592\n",
            "Epoch 6: Loss: 1.940830111503601, Val Loss: 1.9424846172332764, Val Acc: 0.632\n",
            "Epoch 7: Loss: 1.941225528717041, Val Loss: 1.942089557647705, Val Acc: 0.658\n",
            "Epoch 8: Loss: 1.9380977153778076, Val Loss: 1.941712498664856, Val Acc: 0.666\n",
            "Epoch 9: Loss: 1.938604712486267, Val Loss: 1.9413706064224243, Val Acc: 0.67\n",
            "Epoch 10: Loss: 1.9363152980804443, Val Loss: 1.9410197734832764, Val Acc: 0.684\n",
            "Epoch 11: Loss: 1.9383045434951782, Val Loss: 1.9406660795211792, Val Acc: 0.704\n",
            "Epoch 12: Loss: 1.9386428594589233, Val Loss: 1.9403200149536133, Val Acc: 0.706\n",
            "Epoch 13: Loss: 1.9352730512619019, Val Loss: 1.9399693012237549, Val Acc: 0.704\n",
            "Epoch 14: Loss: 1.935323715209961, Val Loss: 1.939619541168213, Val Acc: 0.714\n",
            "Epoch 15: Loss: 1.9340273141860962, Val Loss: 1.9392640590667725, Val Acc: 0.716\n",
            "Epoch 16: Loss: 1.933992624282837, Val Loss: 1.9389019012451172, Val Acc: 0.716\n",
            "Epoch 17: Loss: 1.9288851022720337, Val Loss: 1.9385199546813965, Val Acc: 0.716\n",
            "Epoch 18: Loss: 1.9313849210739136, Val Loss: 1.9381333589553833, Val Acc: 0.712\n",
            "Epoch 19: Loss: 1.933590054512024, Val Loss: 1.9377394914627075, Val Acc: 0.71\n"
          ]
        }
      ]
    },
    {
      "cell_type": "code",
      "source": [
        "model.eval()\n",
        "with torch.no_grad():\n",
        "  test_output = model.forward(data.x,adj)\n",
        "  test_loss = criterion(test_output[data.test_mask], data.y[data.test_mask])\n",
        "  pred = test_output.max(dim=1)\n",
        "  correct = float(pred.indices[data.test_mask].eq(data.y[data.test_mask]).sum().item())\n",
        "  acc = correct / data.test_mask.sum().item()\n",
        "\n",
        "print(acc)"
      ],
      "metadata": {
        "colab": {
          "base_uri": "https://localhost:8080/"
        },
        "id": "EGwhhJVv8UgA",
        "outputId": "04f6909c-e093-4a1d-f05b-f1c55a29bc38"
      },
      "execution_count": 15,
      "outputs": [
        {
          "output_type": "stream",
          "name": "stdout",
          "text": [
            "0.735\n"
          ]
        }
      ]
    },
    {
      "cell_type": "code",
      "source": [
        "print(pred.indices[data.test_mask])"
      ],
      "metadata": {
        "colab": {
          "base_uri": "https://localhost:8080/"
        },
        "id": "loDuSkBS8geG",
        "outputId": "4d5c98a9-9979-48de-9049-8dbbef0c55d3"
      },
      "execution_count": 16,
      "outputs": [
        {
          "output_type": "stream",
          "name": "stdout",
          "text": [
            "tensor([1, 2, 2, 2, 2, 5, 2, 2, 2, 2, 2, 2, 2, 2, 2, 2, 2, 2, 2, 2, 1, 2, 2, 2,\n",
            "        2, 2, 2, 2, 2, 2, 2, 2, 2, 2, 2, 2, 2, 2, 2, 2, 2, 2, 2, 2, 2, 2, 2, 2,\n",
            "        2, 2, 2, 2, 2, 2, 2, 2, 2, 2, 2, 1, 1, 1, 1, 1, 1, 1, 1, 1, 1, 1, 1, 1,\n",
            "        1, 1, 1, 1, 1, 1, 1, 1, 1, 1, 1, 1, 6, 5, 5, 5, 5, 1, 1, 1, 1, 1, 1, 6,\n",
            "        2, 1, 3, 3, 3, 3, 3, 3, 1, 4, 3, 3, 6, 3, 3, 3, 3, 3, 3, 3, 5, 5, 5, 5,\n",
            "        5, 5, 2, 2, 2, 2, 2, 6, 6, 1, 0, 6, 0, 0, 5, 0, 2, 5, 3, 0, 0, 6, 6, 5,\n",
            "        1, 3, 3, 3, 1, 1, 3, 3, 3, 3, 3, 3, 3, 3, 3, 3, 3, 4, 3, 2, 3, 1, 3, 3,\n",
            "        3, 3, 5, 5, 5, 5, 5, 5, 5, 5, 2, 2, 2, 4, 4, 4, 4, 3, 3, 2, 5, 5, 5, 5,\n",
            "        6, 5, 5, 5, 5, 6, 4, 3, 5, 0, 1, 6, 0, 0, 6, 6, 6, 6, 6, 6, 6, 0, 0, 0,\n",
            "        0, 0, 0, 0, 3, 0, 5, 3, 3, 3, 3, 3, 3, 1, 5, 3, 3, 3, 3, 3, 3, 3, 3, 3,\n",
            "        3, 3, 3, 3, 3, 5, 5, 5, 5, 5, 5, 5, 5, 5, 5, 5, 4, 4, 4, 4, 4, 4, 4, 4,\n",
            "        6, 6, 5, 6, 5, 5, 5, 5, 5, 5, 5, 0, 5, 5, 3, 3, 3, 3, 3, 1, 2, 3, 3, 6,\n",
            "        3, 3, 1, 3, 1, 4, 4, 4, 3, 3, 3, 3, 4, 1, 6, 3, 0, 6, 0, 0, 6, 5, 0, 5,\n",
            "        0, 0, 6, 6, 5, 5, 1, 0, 5, 5, 6, 6, 4, 4, 4, 4, 3, 3, 4, 4, 4, 4, 4, 4,\n",
            "        4, 1, 1, 1, 1, 0, 6, 0, 0, 0, 0, 0, 0, 0, 2, 0, 5, 5, 5, 3, 3, 3, 3, 3,\n",
            "        0, 0, 0, 2, 0, 0, 0, 3, 3, 3, 1, 1, 1, 1, 1, 2, 1, 1, 1, 1, 1, 1, 1, 1,\n",
            "        1, 1, 1, 1, 1, 5, 5, 2, 5, 5, 0, 0, 5, 0, 1, 1, 5, 6, 6, 6, 6, 2, 3, 3,\n",
            "        0, 3, 2, 4, 4, 4, 4, 4, 4, 4, 4, 4, 4, 4, 4, 0, 6, 0, 6, 6, 0, 6, 1, 3,\n",
            "        3, 3, 3, 1, 1, 1, 6, 2, 6, 6, 2, 6, 0, 5, 6, 0, 5, 6, 6, 6, 6, 6, 3, 3,\n",
            "        6, 6, 6, 2, 2, 2, 5, 0, 0, 1, 5, 3, 3, 6, 5, 0, 0, 0, 0, 0, 5, 5, 0, 4,\n",
            "        6, 0, 5, 2, 6, 0, 6, 5, 0, 0, 0, 0, 0, 2, 0, 0, 3, 4, 4, 3, 2, 6, 1, 1,\n",
            "        3, 2, 2, 2, 2, 6, 1, 0, 2, 2, 4, 4, 4, 4, 4, 5, 6, 2, 3, 4, 0, 0, 2, 5,\n",
            "        4, 4, 4, 4, 4, 3, 3, 3, 3, 3, 3, 3, 4, 4, 4, 1, 1, 3, 1, 6, 5, 2, 2, 4,\n",
            "        4, 4, 4, 4, 5, 4, 5, 0, 4, 5, 5, 5, 5, 5, 5, 5, 0, 0, 6, 2, 5, 5, 6, 3,\n",
            "        5, 5, 5, 5, 5, 4, 5, 4, 4, 6, 4, 0, 3, 5, 4, 4, 1, 3, 4, 3, 3, 3, 4, 2,\n",
            "        3, 0, 6, 0, 0, 2, 1, 3, 6, 3, 1, 1, 1, 0, 1, 5, 2, 1, 1, 1, 1, 1, 1, 1,\n",
            "        0, 0, 2, 4, 4, 4, 3, 1, 1, 4, 1, 3, 5, 4, 4, 0, 4, 4, 4, 4, 4, 4, 4, 4,\n",
            "        4, 4, 2, 2, 3, 3, 4, 5, 0, 2, 2, 3, 3, 3, 3, 3, 2, 2, 5, 5, 4, 1, 4, 4,\n",
            "        4, 4, 1, 4, 0, 3, 5, 4, 6, 2, 2, 2, 2, 4, 6, 6, 6, 6, 3, 4, 4, 4, 1, 2,\n",
            "        0, 5, 2, 5, 0, 2, 3, 2, 3, 1, 3, 2, 0, 4, 0, 0, 3, 2, 6, 6, 0, 0, 2, 0,\n",
            "        5, 1, 3, 4, 4, 4, 4, 4, 5, 6, 0, 2, 2, 2, 2, 2, 2, 2, 2, 2, 2, 5, 2, 2,\n",
            "        2, 6, 6, 6, 2, 6, 6, 2, 2, 6, 2, 4, 4, 4, 2, 6, 5, 2, 2, 3, 2, 4, 4, 3,\n",
            "        2, 3, 1, 6, 6, 5, 6, 4, 4, 6, 2, 1, 1, 4, 4, 5, 2, 3, 1, 1, 5, 5, 5, 0,\n",
            "        3, 3, 0, 2, 1, 1, 5, 2, 3, 3, 5, 1, 2, 6, 2, 2, 5, 5, 4, 3, 4, 3, 1, 2,\n",
            "        4, 2, 4, 5, 5, 2, 2, 3, 1, 2, 3, 1, 4, 5, 4, 2, 3, 3, 1, 3, 4, 1, 2, 5,\n",
            "        4, 4, 3, 5, 1, 5, 2, 1, 2, 2, 2, 4, 2, 2, 6, 4, 4, 2, 2, 2, 3, 4, 3, 2,\n",
            "        2, 6, 1, 0, 0, 4, 3, 3, 3, 2, 3, 4, 2, 2, 5, 4, 3, 4, 4, 1, 5, 2, 4, 3,\n",
            "        2, 2, 1, 3, 2, 1, 5, 1, 6, 3, 2, 2, 6, 1, 3, 0, 2, 3, 2, 4, 2, 5, 2, 2,\n",
            "        0, 5, 6, 4, 3, 3, 2, 2, 5, 3, 5, 2, 3, 3, 3, 3, 3, 4, 6, 2, 5, 2, 2, 2,\n",
            "        5, 4, 4, 4, 4, 6, 1, 2, 2, 6, 2, 2, 2, 2, 2, 3, 4, 4, 4, 3, 1, 1, 6, 3,\n",
            "        3, 2, 4, 4, 4, 4, 4, 4, 3, 4, 4, 4, 4, 2, 4, 4, 4, 2, 3, 3, 3, 2, 6, 2,\n",
            "        6, 3, 4, 4, 1, 3, 3, 4, 3, 3, 0, 3, 2, 5, 3, 3])\n"
          ]
        }
      ]
    }
  ]
}